{
 "cells": [
  {
   "cell_type": "code",
   "execution_count": 9,
   "metadata": {},
   "outputs": [],
   "source": [
    "# Monte Carlo Sampling "
   ]
  },
  {
   "cell_type": "code",
   "execution_count": 1,
   "metadata": {},
   "outputs": [],
   "source": [
    "import numpy as np\n",
    "from matplotlib import pyplot"
   ]
  },
  {
   "cell_type": "code",
   "execution_count": 2,
   "metadata": {},
   "outputs": [],
   "source": [
    "# (xi,yi) are the points. Choose those points that satisfy yi< f(xi)\n",
    "# f(xi) being the function we want to approximate"
   ]
  },
  {
   "cell_type": "code",
   "execution_count": null,
   "metadata": {},
   "outputs": [],
   "source": []
  },
  {
   "cell_type": "code",
   "execution_count": 3,
   "metadata": {},
   "outputs": [
    {
     "name": "stdout",
     "output_type": "stream",
     "text": [
      "100 78 3.12 0.02159265358979301\n",
      "200 157 3.14 0.0015926535897929917\n",
      "400 319 3.19 0.04840734641020683\n",
      "800 626 3.13 0.011592653589793223\n",
      "1600 1305 3.2625 0.12090734641020706\n",
      "3200 2494 3.1175 0.024092653589792956\n",
      "6400 5016 3.135 0.006592653589793329\n",
      "12800 10033 3.1353125 0.006280153589793169\n",
      "25600 20086 3.1384375 0.003155153589792903\n",
      "51200 40167 3.138046875 0.0035457785897929917\n"
     ]
    },
    {
     "data": {
      "image/png": "[encoded data removed]",
      "text/plain": [
       "<Figure size 432x288 with 1 Axes>"
      ]
     },
     "metadata": {
      "needs_background": "light"
     },
     "output_type": "display_data"
    }
   ],
   "source": [
    "# Hit and miss Monte Carlo integration\n",
    "ngroups = 10\n",
    "\n",
    "I = np.zeros(ngroups)\n",
    "N = np.zeros(ngroups)\n",
    "E = np.zeros(ngroups)\n",
    "\n",
    "n0 = 100\n",
    "for i in range(ngroups):\n",
    "\n",
    "    N[i] = n0\n",
    "    x = np.random.random(n0)\n",
    "    y = np.random.random(n0)\n",
    "    I[i] = 0.\n",
    "    Nin = 0\n",
    "    for j in range(n0):\n",
    "        if(y[j] < np.sqrt(1-x[j]**2)):\n",
    "            Nin += 1\n",
    "            \n",
    "    I[i] = 4.*float(Nin)/float(n0)\n",
    "    E[i] = abs(I[i]-np.pi)\n",
    "    print (n0,Nin,I[i],E[i])\n",
    "    n0 *= 2\n",
    "    \n",
    "            \n",
    "pyplot.plot(N,E,ls='-',c='red',lw=3);\n",
    "pyplot.plot(N,0.8/np.sqrt(N),ls='-',c='blue',lw=3);\n",
    "\n",
    "pyplot.xscale('log')\n",
    "pyplot.yscale('log')"
   ]
  },
  {
   "cell_type": "code",
   "execution_count": 6,
   "metadata": {},
   "outputs": [],
   "source": [
    "# Weight f(x) by a probabilitic distribution  for importance sampling "
   ]
  },
  {
   "cell_type": "code",
   "execution_count": 4,
   "metadata": {},
   "outputs": [
    {
     "name": "stdout",
     "output_type": "stream",
     "text": [
      "Trapezoids:  1.3293401896452883\n",
      "Simple Monte Carlo:  0.20061667992738524\n",
      "Importance Sampling:  1.3275016184211332\n"
     ]
    },
    {
     "data": {
      "image/png": "[encoded data removed]",
      "text/plain": [
       "<Figure size 432x288 with 1 Axes>"
      ]
     },
     "metadata": {
      "needs_background": "light"
     },
     "output_type": "display_data"
    }
   ],
   "source": [
    "## Importance Sampling \n",
    "pyplot.plot(x,np.exp(-x));\n",
    "\n",
    "# Trapezoidal integration\n",
    "def trapezoids(func, xmin, xmax, nmax):\n",
    "    Isim = func(xmin)+func(xmax)\n",
    "    h = (xmax-xmin)/nmax\n",
    "    for i in range(1,nmax):\n",
    "        x = xmin+i*h\n",
    "        Isim += 2*func(x)\n",
    "\n",
    "    Isim *= h/2\n",
    "    return Isim\n",
    "\n",
    "def f(x):\n",
    "    return x**1.5*np.exp(-x)\n",
    "    \n",
    "    \n",
    "print(\"Trapezoids: \", trapezoids(f, 0., 20., 100000))\n",
    "\n",
    "# Simple Monte Carlo integration\n",
    "n0 = 1000000\n",
    "r = np.random.random(n0)\n",
    "\n",
    "Itot = np.sum(r**1.5*np.exp(-r))\n",
    "print(\"Simple Monte Carlo: \", Itot/n0)\n",
    "\n",
    "x = -np.log(r)\n",
    "Itot = np.sum(x**1.5)\n",
    "print(\"Importance Sampling: \", Itot/n0)"
   ]
  },
  {
   "cell_type": "code",
   "execution_count": null,
   "metadata": {},
   "outputs": [],
   "source": []
  }
 ],
 "metadata": {
  "kernelspec": {
   "display_name": "Python cat",
   "language": "python",
   "name": "cat"
  },
  "language_info": {
   "codemirror_mode": {
    "name": "ipython",
    "version": 3
   },
   "file_extension": ".py",
   "mimetype": "text/x-python",
   "name": "python",
   "nbconvert_exporter": "python",
   "pygments_lexer": "ipython3",
   "version": "3.6.8"
  }
 },
 "nbformat": 4,
 "nbformat_minor": 2
}
